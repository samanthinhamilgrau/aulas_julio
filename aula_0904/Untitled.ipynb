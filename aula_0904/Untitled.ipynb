{
 "cells": [
  {
   "cell_type": "code",
   "execution_count": 3,
   "id": "9c8bae29-aa74-4f8a-96aa-03325534557c",
   "metadata": {},
   "outputs": [
    {
     "name": "stdout",
     "output_type": "stream",
     "text": [
      "Collecting pymysql\n",
      "  Downloading PyMySQL-1.1.1-py3-none-any.whl.metadata (4.4 kB)\n",
      "Downloading PyMySQL-1.1.1-py3-none-any.whl (44 kB)\n",
      "Installing collected packages: pymysql\n",
      "Successfully installed pymysql-1.1.1\n",
      "Note: you may need to restart the kernel to use updated packages.\n"
     ]
    }
   ],
   "source": [
    "pip install pymysql\n"
   ]
  },
  {
   "cell_type": "code",
   "execution_count": 4,
   "id": "78c3406b-d9f1-418b-b73e-e5d4c60b0100",
   "metadata": {},
   "outputs": [
    {
     "name": "stdout",
     "output_type": "stream",
     "text": [
      "Collecting pymysql\n",
      "  Using cached PyMySQL-1.1.1-py3-none-any.whl.metadata (4.4 kB)\n",
      "Using cached PyMySQL-1.1.1-py3-none-any.whl (44 kB)\n",
      "Installing collected packages: pymysql\n",
      "Successfully installed pymysql-1.1.1\n"
     ]
    },
    {
     "name": "stderr",
     "output_type": "stream",
     "text": [
      "\n",
      "[notice] A new release of pip is available: 24.0 -> 25.0.1\n",
      "[notice] To update, run: python.exe -m pip install --upgrade pip\n"
     ]
    }
   ],
   "source": [
    "!pip install pymysql\n"
   ]
  },
  {
   "cell_type": "code",
   "execution_count": 6,
   "id": "da47e7c3-4c55-4acf-b7db-11dff0ca1128",
   "metadata": {},
   "outputs": [
    {
     "name": "stdout",
     "output_type": "stream",
     "text": [
      "Conectado com sucesso!\n",
      "Versão do MySQL: ('8.0.40',)\n",
      "Conexão encerrada.\n"
     ]
    }
   ],
   "source": [
    "import pymysql\n",
    "\n",
    "# Dados da conexão\n",
    "host = 'database-1.cxlewrsppkje.us-east-1.rds.amazonaws.com'\n",
    "port = 3306\n",
    "user = 'admin'\n",
    "password = 'senai115'\n",
    "database = 'rds_aurora'\n",
    "\n",
    "try:\n",
    "    connection = pymysql.connect(\n",
    "        host=host,\n",
    "        user=user,\n",
    "        password=password,\n",
    "        database=database,\n",
    "        port=port\n",
    "    )\n",
    "    print(\"Conectado com sucesso!\")\n",
    "\n",
    "    # Teste de consulta\n",
    "    with connection.cursor() as cursor:\n",
    "        cursor.execute(\"SELECT VERSION()\")\n",
    "        version = cursor.fetchone()\n",
    "        print(\"Versão do MySQL:\", version)\n",
    "\n",
    "except Exception as e:\n",
    "    print(\"Erro ao conectar:\", e)\n",
    "\n",
    "finally:\n",
    "    if 'connection' in locals() and connection.open:\n",
    "        connection.close()\n",
    "        print(\"Conexão encerrada.\")"
   ]
  },
  {
   "cell_type": "code",
   "execution_count": 8,
   "id": "8d0a9fa8-ae63-4fdd-937f-1c2b698fac85",
   "metadata": {},
   "outputs": [],
   "source": [
    "if not connection.open:\n",
    "    connection.ping(reconnect=True)"
   ]
  },
  {
   "cell_type": "code",
   "execution_count": 9,
   "id": "e607d78f-6124-44c6-85d8-f605539adec7",
   "metadata": {},
   "outputs": [
    {
     "name": "stdout",
     "output_type": "stream",
     "text": [
      "Tabela criada com sucesso!\n"
     ]
    }
   ],
   "source": [
    "try:\n",
    "    if not connection.open:\n",
    "        connection.ping(reconnect=True)\n",
    "    \n",
    "    with connection.cursor() as cursor:\n",
    "        cursor.execute(\"\"\"\n",
    "            CREATE TABLE IF NOT EXISTS usuarios (\n",
    "                id INT AUTO_INCREMENT PRIMARY KEY,\n",
    "                nome VARCHAR(100),\n",
    "                email VARCHAR(100)\n",
    "            )\n",
    "        \"\"\")\n",
    "        connection.commit()\n",
    "        print(\"Tabela criada com sucesso!\")\n",
    "\n",
    "except Exception as e:\n",
    "    print(\"Erro ao executar comando:\", e)\n"
   ]
  }
 ],
 "metadata": {
  "kernelspec": {
   "display_name": "Python 3 (ipykernel)",
   "language": "python",
   "name": "python3"
  },
  "language_info": {
   "codemirror_mode": {
    "name": "ipython",
    "version": 3
   },
   "file_extension": ".py",
   "mimetype": "text/x-python",
   "name": "python",
   "nbconvert_exporter": "python",
   "pygments_lexer": "ipython3",
   "version": "3.12.7"
  }
 },
 "nbformat": 4,
 "nbformat_minor": 5
}
